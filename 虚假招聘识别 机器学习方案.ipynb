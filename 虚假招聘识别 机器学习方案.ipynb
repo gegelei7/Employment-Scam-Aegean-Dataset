{
 "cells": [
  {
   "cell_type": "code",
   "execution_count": 1,
   "id": "5d66f8d2",
   "metadata": {},
   "outputs": [],
   "source": [
    "import numpy as np\n",
    "import pandas as pd\n",
    "\n",
    "import warnings\n",
    "warnings.filterwarnings('ignore')\n",
    "\n",
    "import matplotlib.pyplot as plt\n",
    "import seaborn as sns\n",
    "\n",
    "%matplotlib inline\n",
    "from IPython.core.interactiveshell import InteractiveShell\n",
    "InteractiveShell.ast_node_interactivity = \"all\"  ##多行显示\n",
    "\n",
    "plt.rcParams['font.sans-serif'] = 'SimHei'\n",
    "plt.rcParams['axes.unicode_minus'] = False\n",
    "\n",
    "pd.set_option('display.max_columns',50)\n",
    "\n",
    "from scipy import stats\n",
    "import time\n",
    "import itertools\n",
    "\n",
    "## 模型预测的\n",
    "from sklearn import preprocessing\n",
    "from sklearn.svm import SVC\n",
    "from sklearn.feature_extraction.text import TfidfVectorizer\n",
    "\n",
    "## 数据降维处理的\n",
    "from sklearn import decomposition\n",
    "\n",
    "import lightgbm as lgb\n",
    "import xgboost as xgb\n",
    "\n",
    "## 参数搜索和评价的\n",
    "from sklearn.model_selection import GridSearchCV,cross_val_score,StratifiedKFold,train_test_split\n",
    "from sklearn.metrics import mean_squared_error, mean_absolute_error\n",
    "\n",
    "from sklearn.model_selection import StratifiedKFold,KFold"
   ]
  },
  {
   "cell_type": "code",
   "execution_count": 2,
   "id": "532cf7dd",
   "metadata": {},
   "outputs": [],
   "source": [
    "path = \"D://学习文件/个人/大三下/4 知识发现与数据挖掘/期末/比赛数据集/\"\n",
    "\n",
    "df_train = pd.read_csv(path+\"fake_job_postings_train.csv\")\n",
    "df_test = pd.read_csv(path+\"fake_job_postings_test.csv\") "
   ]
  },
  {
   "cell_type": "code",
   "execution_count": 3,
   "id": "c173d349",
   "metadata": {
    "scrolled": true
   },
   "outputs": [],
   "source": [
    "data = pd.concat([df_train,df_test],axis=0)\n",
    "data.index = range(len(data))"
   ]
  },
  {
   "cell_type": "code",
   "execution_count": 4,
   "id": "1619af32",
   "metadata": {},
   "outputs": [],
   "source": [
    "data_id = pd.DataFrame(preprocessing.LabelEncoder().fit_transform(data.job_id),columns = [\"id\"])\n",
    "data_id[\"job_id\"] = data[\"job_id\"]\n",
    "data.job_id = preprocessing.LabelEncoder().fit_transform(data.job_id)"
   ]
  },
  {
   "cell_type": "code",
   "execution_count": 5,
   "id": "b76d0cdf",
   "metadata": {},
   "outputs": [],
   "source": [
    "def change_category(X):\n",
    "    X = X.fillna(\"\")\n",
    "    title_vc = X.value_counts()\n",
    "    X_ans = X.map(dict(title_vc))\n",
    "    return X_ans"
   ]
  },
  {
   "cell_type": "code",
   "execution_count": 6,
   "id": "89710418",
   "metadata": {},
   "outputs": [],
   "source": [
    "data[\"title_info\"] = change_category(data.title)\n",
    "data.location = change_category(data.location)\n",
    "data.department = change_category(data.department)\n",
    "data.salary_range = change_category(data.salary_range.str.extract('(\\d+)')[0]).astype(float)"
   ]
  },
  {
   "cell_type": "code",
   "execution_count": 7,
   "id": "6182be42",
   "metadata": {},
   "outputs": [],
   "source": [
    "data.employment_type = preprocessing.LabelEncoder().fit_transform(data.employment_type)\n",
    "data.required_experience = preprocessing.LabelEncoder().fit_transform(data.required_experience)\n",
    "data.required_education = preprocessing.LabelEncoder().fit_transform(data.required_education)\n",
    "data.industry = preprocessing.LabelEncoder().fit_transform(data.industry)\n",
    "data.function = preprocessing.LabelEncoder().fit_transform(data.function)"
   ]
  },
  {
   "cell_type": "code",
   "execution_count": 8,
   "id": "d8f14ec6",
   "metadata": {},
   "outputs": [],
   "source": [
    "dummy_list = [\"location\",\"department\",\"salary_range\",\"employment_type\",\"required_experience\",\"required_education\",\"industry\",\"function\"]\n",
    "data_part1 = pd.get_dummies(data[dummy_list].astype(str))"
   ]
  },
  {
   "cell_type": "code",
   "execution_count": 9,
   "id": "87cbe5e6",
   "metadata": {},
   "outputs": [],
   "source": [
    "data_part2 = data[[\"telecommuting\",\"has_company_logo\",\"has_questions\"]]"
   ]
  },
  {
   "cell_type": "code",
   "execution_count": 1,
   "id": "352777b9",
   "metadata": {},
   "outputs": [],
   "source": [
    "def get_feautures(X,threshold,k):\n",
    "    X_data = X.fillna(\"\")\n",
    "    print(\"计算TF-IDF...\")\n",
    "    ans = TfidfVectorizer(strip_accents='unicode',stop_words=\"english\",min_df=threshold).fit_transform(X_data).toarray()\n",
    "    columns_count = ans.shape[1]\n",
    "    \n",
    "    print(\"计算SVD...\")\n",
    "    SVD_ans = decomposition.TruncatedSVD(n_components=k).fit_transform(ans)\n",
    "    X_part1 = pd.DataFrame(SVD_ans)\n",
    "    X_part1.columns = [X.name+\"_SVD\"+str(i) for i in range(len(X_part1.columns))]\n",
    "    \n",
    "    print(\"计算NMF...\")\n",
    "    NMF_ans = decomposition.NMF(n_components=30).fit_transform(ans)\n",
    "    X_part2 = pd.DataFrame(NMF_ans)\n",
    "    X_part2.columns = [X.name+\"_NMF\"+str(i) for i in range(len(X_part2.columns))]\n",
    "    \n",
    "    print(\"计算FA...\")\n",
    "    FA_ans = decomposition.FactorAnalysis(n_components=30).fit_transform(ans)\n",
    "    X_part3 = pd.DataFrame(FA_ans)\n",
    "    X_part3.columns = [X.name+\"_FA\"+str(i) for i in range(len(X_part3.columns))]\n",
    "     \n",
    "    print(\"计算LDA...\")\n",
    "    LDA_ans = decomposition.LatentDirichletAllocation(n_components=30,n_jobs=-1).fit_transform(ans)\n",
    "    X_part4 = pd.DataFrame(LDA_ans)\n",
    "    X_part4.columns = [X.name+\"_LDA\"+str(i) for i in range(len(X_part4.columns))]\n",
    "\n",
    "    X_feauture = pd.concat([X_part1,X_part2,X_part3,X_part4],axis=1)\n",
    "    return X_feauture,columns_count"
   ]
  },
  {
   "cell_type": "code",
   "execution_count": null,
   "id": "9751f876",
   "metadata": {},
   "outputs": [],
   "source": [
    "ans1,~ = get_feautures(data[\"title\"],threshold=0.001,k=50)\n",
    "ans2,~ = get_feautures(data[\"company_profile\"],threshold=0.001,k=50)\n",
    "ans3,~ = get_feautures(data[\"description\"],threshold=0.001,k=50)\n",
    "ans4,~ = get_feautures(data[\"requirements\"],threshold=0.001,k=50)\n",
    "ans5,~ = get_feautures(data[\"benefits\"],threshold=0.001,k=50)"
   ]
  },
  {
   "cell_type": "code",
   "execution_count": null,
   "id": "c4bc5e39",
   "metadata": {},
   "outputs": [],
   "source": [
    "title_data = data[\"title\"].fillna(\"\")\n",
    "D1 = TfidfVectorizer(strip_accents='unicode',stop_words=\"english\",min_df=0.001).fit_transform(title_data)\n",
    "company_profile_data = data[\"company_profile\"].fillna(\"\")\n",
    "D2 = TfidfVectorizer(strip_accents='unicode',stop_words=\"english\",min_df=0.01).fit_transform(company_profile_data)\n",
    "description_data = data[\"description\"].fillna(\"\")\n",
    "D3 = TfidfVectorizer(strip_accents='unicode',stop_words=\"english\",min_df=0.01).fit_transform(description_data)\n",
    "requirements_data = data[\"requirements\"].fillna(\"\")\n",
    "D4 = TfidfVectorizer(strip_accents='unicode',stop_words=\"english\",min_df=0.001).fit_transform(requirements_data)\n",
    "benefits_data = data[\"benefits\"].fillna(\"\")\n",
    "D5 = TfidfVectorizer(strip_accents='unicode',stop_words=\"english\",min_df=0.001).fit_transform(benefits_data)\n",
    "D = np.hstack((D1.toarray(),D2.toarray(),D3.toarray(),D4.toarray(),D5.toarray()))\n",
    "\n",
    "df_D = pd.DataFrame(D)\n",
    "k=50\n",
    "print(\"计算SVD...\")\n",
    "SVD_ans = decomposition.TruncatedSVD(n_components=k).fit_transform(df_D)\n",
    "X_part1 = pd.DataFrame(SVD_ans)\n",
    "X_part1.columns = [\"SVDt\"+str(i) for i in range(len(X_part1.columns))]\n",
    "\n",
    "print(\"计算NMF...\")\n",
    "NMF_ans = decomposition.NMF(n_components=k).fit_transform(df_D)\n",
    "X_part2 = pd.DataFrame(NMF_ans)\n",
    "X_part2.columns = [\"NMFt\"+str(i) for i in range(len(X_part2.columns))]\n",
    "\n",
    "print(\"计算FA...\")\n",
    "FA_ans = decomposition.FactorAnalysis(n_components=k).fit_transform(df_D)\n",
    "X_part3 = pd.DataFrame(FA_ans)\n",
    "X_part3.columns = [\"FAt\"+str(i) for i in range(len(X_part3.columns))]\n",
    "\n",
    "print(\"计算LDA...\")\n",
    "LDA_ans = decomposition.LatentDirichletAllocation(n_components=k,n_jobs=-1).fit_transform(df_D)\n",
    "X_part4 = pd.DataFrame(LDA_ans)\n",
    "X_part4.columns = [\"LDAt\"+str(i) for i in range(len(X_part4.columns))]\n",
    "\n",
    "ans = pd.concat([X_part1,X_part2,X_part3,X_part4],axis=1)\n",
    "ans"
   ]
  },
  {
   "cell_type": "code",
   "execution_count": null,
   "id": "f154ac74",
   "metadata": {},
   "outputs": [],
   "source": [
    "data_target = data[\"fraudulent\"]"
   ]
  },
  {
   "cell_type": "code",
   "execution_count": null,
   "id": "b9206cac",
   "metadata": {},
   "outputs": [],
   "source": [
    "data_part3 = data[[\"location\",\"department\",\"salary_range\",\"employment_type\",\"required_experience\",\"required_education\",\"industry\",\"function\"]]"
   ]
  },
  {
   "cell_type": "code",
   "execution_count": null,
   "id": "f5525551",
   "metadata": {},
   "outputs": [],
   "source": [
    "final_data = pd.concat([data_part1,data_part2,data_part3,ans1,ans2,ans3,ans4,ans5,ans,data_target],axis=1)"
   ]
  },
  {
   "cell_type": "code",
   "execution_count": null,
   "id": "9372239f",
   "metadata": {},
   "outputs": [],
   "source": [
    "df_train1 = final_data.iloc[:9998,:-1]\n",
    "y_train1 = final_data.iloc[:9998,-1]\n",
    "df_test1 = final_data.iloc[9998:,:-1]\n",
    "y_test1 = final_data.iloc[9998:,-1]\n",
    "\n",
    "# 将参数写成字典下形式\n",
    "model= lgb.LGBMRegressor(\n",
    "        n_estimators=20000,\n",
    "        learning_rate=0.01,\n",
    "        boosting_type= 'gbdt',\n",
    "        objective = 'binary',\n",
    "        max_depth = -1,\n",
    "        num_leaves=31,\n",
    "        feature_fraction = 0.9,\n",
    "        bagging_freq = 1,\n",
    "        bagging_fraction = 0.9,\n",
    "        metric=\"auc\",\n",
    "        is_unbalance = True\n",
    "    )\n",
    "Score_list = []\n",
    "sub_ans = np.zeros([1,final_data.iloc[9999:,:-1].shape[0]])\n",
    "KF=KFold(n_splits=5,shuffle=True)\n",
    "k=1\n",
    "for train_index,test_index in KF.split(df_train1):\n",
    "    X_train,X_test=df_train1.iloc[train_index,:],df_train1.iloc[test_index,:]\n",
    "    Y_train,Y_test=y_train1[train_index],y_train1[test_index]\n",
    "    t1 = time.time()\n",
    "    # 训练\n",
    "    model.fit(X_train,#参数字典\n",
    "              Y_train,#训练集       \n",
    "              eval_set=[(X_test, Y_test)],#验证数据集\n",
    "              eval_metric = 'auc',\n",
    "              early_stopping_rounds=1000, #有验证集的话，提前停止的轮数\n",
    "              verbose=100,#迭代多少次打印\n",
    "              )\n",
    "    t2 = time.time()\n",
    "    print(\"运行时间：\",str(t2-t1))\n",
    "    \n",
    "    plt.figure(figsize=(12,6))\n",
    "    lgb.plot_importance(model, max_num_features=20)\n",
    "    plt.title(\"Featurertances\")\n",
    "    plt.show() \n",
    "    \n",
    "    final_ans = model.predict(final_data.iloc[9999:,:-1])\n",
    "    sub_ans = sub_ans + final_ans/k\n",
    "    \n",
    "    Score_list.append(model.best_score_['valid_0']['auc'])\n",
    "\n",
    "    k+=1   "
   ]
  },
  {
   "cell_type": "code",
   "execution_count": null,
   "id": "f0618d9a",
   "metadata": {},
   "outputs": [],
   "source": [
    "answer = pd.DataFrame({\"job_id\":data_id.iloc[9999:,1].values,\"pred\":sub_ans[0]})\n",
    "answer.columns = [\"job_id\",\"pred\"]\n",
    "print(\"Final LightGBM Score:   \",np.mean(Score_list))\n",
    "answer"
   ]
  },
  {
   "cell_type": "code",
   "execution_count": null,
   "id": "cc712ff1",
   "metadata": {},
   "outputs": [],
   "source": [
    "answer.to_csv(path+'submit_answer.csv',sep=',',index=False)"
   ]
  }
 ],
 "metadata": {
  "kernelspec": {
   "display_name": "Python 3",
   "language": "python",
   "name": "python3"
  },
  "language_info": {
   "codemirror_mode": {
    "name": "ipython",
    "version": 3
   },
   "file_extension": ".py",
   "mimetype": "text/x-python",
   "name": "python",
   "nbconvert_exporter": "python",
   "pygments_lexer": "ipython3",
   "version": "3.8.5"
  }
 },
 "nbformat": 4,
 "nbformat_minor": 5
}
